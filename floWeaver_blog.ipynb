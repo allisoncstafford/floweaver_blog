{
 "cells": [
  {
   "cell_type": "markdown",
   "metadata": {},
   "source": [
    "# This notebook accompanies a Medium blog post introducing users to floWeaver"
   ]
  },
  {
   "cell_type": "code",
   "execution_count": 1,
   "metadata": {},
   "outputs": [],
   "source": [
    "# import necessary packages\n",
    "import pandas as pd\n",
    "from floweaver import *"
   ]
  },
  {
   "cell_type": "markdown",
   "metadata": {},
   "source": [
    "## A Simple Sankey Diagram: Flow of Refugees from the Syrian Civil War\n",
    "\n",
    "Note: make sure your values are positive!"
   ]
  },
  {
   "cell_type": "code",
   "execution_count": 2,
   "metadata": {},
   "outputs": [],
   "source": [
    "# create data set - easiest with column names \"source\", \"target\", \"value\", then additional \n",
    "refugees = pd.DataFrame()\n",
    "refugees['value'] = [3600000, 950000, 670000, 250000, 130000, 1300000, 18000]\n",
    "refugees['source'] = 'Syria'\n",
    "refugees['target'] = ['Turkey', 'Lebanon', 'Jordan', 'Iraq', 'Egypt', 'Europe', 'USA']\n",
    "refugees['region'] = ['Middle East', 'Middle East', 'Middle East', 'Middle East', 'Middle East', 'Europe', 'North America']\n",
    "refugees = refugees[['source', 'target', 'value', 'region']]\n",
    "refugees.to_csv('refugees.csv')"
   ]
  },
  {
   "cell_type": "code",
   "execution_count": 3,
   "metadata": {},
   "outputs": [
    {
     "data": {
      "text/html": [
       "<div>\n",
       "<style scoped>\n",
       "    .dataframe tbody tr th:only-of-type {\n",
       "        vertical-align: middle;\n",
       "    }\n",
       "\n",
       "    .dataframe tbody tr th {\n",
       "        vertical-align: top;\n",
       "    }\n",
       "\n",
       "    .dataframe thead th {\n",
       "        text-align: right;\n",
       "    }\n",
       "</style>\n",
       "<table border=\"1\" class=\"dataframe\">\n",
       "  <thead>\n",
       "    <tr style=\"text-align: right;\">\n",
       "      <th></th>\n",
       "      <th>source</th>\n",
       "      <th>target</th>\n",
       "      <th>value</th>\n",
       "      <th>region</th>\n",
       "    </tr>\n",
       "  </thead>\n",
       "  <tbody>\n",
       "    <tr>\n",
       "      <th>0</th>\n",
       "      <td>Syria</td>\n",
       "      <td>Turkey</td>\n",
       "      <td>3600000</td>\n",
       "      <td>Middle East</td>\n",
       "    </tr>\n",
       "    <tr>\n",
       "      <th>1</th>\n",
       "      <td>Syria</td>\n",
       "      <td>Lebanon</td>\n",
       "      <td>950000</td>\n",
       "      <td>Middle East</td>\n",
       "    </tr>\n",
       "    <tr>\n",
       "      <th>2</th>\n",
       "      <td>Syria</td>\n",
       "      <td>Jordan</td>\n",
       "      <td>670000</td>\n",
       "      <td>Middle East</td>\n",
       "    </tr>\n",
       "    <tr>\n",
       "      <th>3</th>\n",
       "      <td>Syria</td>\n",
       "      <td>Iraq</td>\n",
       "      <td>250000</td>\n",
       "      <td>Middle East</td>\n",
       "    </tr>\n",
       "    <tr>\n",
       "      <th>4</th>\n",
       "      <td>Syria</td>\n",
       "      <td>Egypt</td>\n",
       "      <td>130000</td>\n",
       "      <td>Middle East</td>\n",
       "    </tr>\n",
       "    <tr>\n",
       "      <th>5</th>\n",
       "      <td>Syria</td>\n",
       "      <td>Europe</td>\n",
       "      <td>1300000</td>\n",
       "      <td>Europe</td>\n",
       "    </tr>\n",
       "    <tr>\n",
       "      <th>6</th>\n",
       "      <td>Syria</td>\n",
       "      <td>USA</td>\n",
       "      <td>18000</td>\n",
       "      <td>North America</td>\n",
       "    </tr>\n",
       "  </tbody>\n",
       "</table>\n",
       "</div>"
      ],
      "text/plain": [
       "  source   target    value         region\n",
       "0  Syria   Turkey  3600000    Middle East\n",
       "1  Syria  Lebanon   950000    Middle East\n",
       "2  Syria   Jordan   670000    Middle East\n",
       "3  Syria     Iraq   250000    Middle East\n",
       "4  Syria    Egypt   130000    Middle East\n",
       "5  Syria   Europe  1300000         Europe\n",
       "6  Syria      USA    18000  North America"
      ]
     },
     "execution_count": 3,
     "metadata": {},
     "output_type": "execute_result"
    }
   ],
   "source": [
    "refugees"
   ]
  },
  {
   "cell_type": "code",
   "execution_count": 4,
   "metadata": {},
   "outputs": [],
   "source": [
    "# set the \"nodes\" - aka grouping spots. (Node names here aren't important)\n",
    "nodes = {\n",
    "    'start': ProcessGroup(['Syria']), # one (Syria) at the start \n",
    "    'end': ProcessGroup(list(refugees['target'].unique())), # 7 at the end\n",
    "}\n",
    "\n",
    "# set the order of the nodes left to right\n",
    "ordering = [['start'], ['end']]\n",
    "\n",
    "# set the \"bundle\" of connections you want to show\n",
    "bundles = [Bundle('start', 'end')]"
   ]
  },
  {
   "cell_type": "code",
   "execution_count": 5,
   "metadata": {},
   "outputs": [],
   "source": [
    "# partition the groups for display Partition.Simple(whatever you want, list-like of unique values)\n",
    "nodes['start'].partition = Partition.Simple('source', ['Syria'])\n",
    "nodes['end'].partition = Partition.Simple('target', refugees['target'].unique())"
   ]
  },
  {
   "cell_type": "code",
   "execution_count": 6,
   "metadata": {},
   "outputs": [
    {
     "data": {
      "application/vnd.jupyter.widget-view+json": {
       "model_id": "e974ae0928eb471b832022f5e42e664d",
       "version_major": 2,
       "version_minor": 0
      },
      "text/plain": [
       "SankeyWidget(groups=[{'id': 'start', 'type': 'process', 'title': '', 'nodes': ['start^Syria']}, {'id': 'end', …"
      ]
     },
     "metadata": {},
     "output_type": "display_data"
    }
   ],
   "source": [
    "# create sankey\n",
    "sdd = SankeyDefinition(nodes, bundles, ordering)\n",
    "\n",
    "# display sankey and save as png\n",
    "weave(sdd, refugees).to_widget().auto_save_png('./images/syria1.png')"
   ]
  },
  {
   "cell_type": "markdown",
   "metadata": {},
   "source": [
    "## Bundling smaller contributors into \"other\""
   ]
  },
  {
   "cell_type": "code",
   "execution_count": 7,
   "metadata": {},
   "outputs": [],
   "source": [
    "# reset the partition\n",
    "nodes['end'].partition = Partition.Simple('target', \n",
    "                                          ['Turkey', \n",
    "                                           'Lebanon', \n",
    "                                           'Jordan', \n",
    "                                           'Europe',\n",
    "                                           ('Other', ['Iraq', 'Egypt', 'USA'])])"
   ]
  },
  {
   "cell_type": "code",
   "execution_count": 8,
   "metadata": {},
   "outputs": [
    {
     "data": {
      "application/vnd.jupyter.widget-view+json": {
       "model_id": "6a83891de0bc4eac8b72ffc47d6149c2",
       "version_major": 2,
       "version_minor": 0
      },
      "text/plain": [
       "SankeyWidget(groups=[{'id': 'start', 'type': 'process', 'title': '', 'nodes': ['start^Syria']}, {'id': 'end', …"
      ]
     },
     "metadata": {},
     "output_type": "display_data"
    }
   ],
   "source": [
    "sdd = SankeyDefinition(nodes, bundles, ordering)\n",
    "weave(sdd, refugees).to_widget().auto_save_png('./images/syria_other.png')"
   ]
  },
  {
   "cell_type": "markdown",
   "metadata": {},
   "source": [
    "## Visualizing/Partitioning on a different feature\n",
    "\n",
    "Change the partition"
   ]
  },
  {
   "cell_type": "code",
   "execution_count": 9,
   "metadata": {},
   "outputs": [],
   "source": [
    "nodes['end'].partition = Partition.Simple('region', \n",
    "                                          refugees['region'].unique())"
   ]
  },
  {
   "cell_type": "code",
   "execution_count": 10,
   "metadata": {},
   "outputs": [
    {
     "data": {
      "application/vnd.jupyter.widget-view+json": {
       "model_id": "1133b52bcad64b9cb114c2b91d20ef87",
       "version_major": 2,
       "version_minor": 0
      },
      "text/plain": [
       "SankeyWidget(groups=[{'id': 'start', 'type': 'process', 'title': '', 'nodes': ['start^Syria']}, {'id': 'end', …"
      ]
     },
     "metadata": {},
     "output_type": "display_data"
    }
   ],
   "source": [
    "sdd = SankeyDefinition(nodes, bundles, ordering)\n",
    "weave(sdd, refugees).to_widget().auto_save_png('./images/syria_region.png')"
   ]
  },
  {
   "cell_type": "markdown",
   "metadata": {},
   "source": [
    "## Adding a Waypoint"
   ]
  },
  {
   "cell_type": "code",
   "execution_count": 11,
   "metadata": {},
   "outputs": [],
   "source": [
    "# create region partition\n",
    "region = Partition.Simple('region', refugees['region'].unique())\n",
    "\n",
    "# set the \"nodes\" - aka grouping spots. (Node names here aren't important)\n",
    "nodes = {\n",
    "    'start': ProcessGroup(['Syria']), # one (Syria) at the start \n",
    "    'middle': Waypoint(region), # region in the middle\n",
    "    'end': ProcessGroup(list(refugees['target'].unique())), # 7 at the end\n",
    "}\n",
    "\n",
    "# set the order of the nodes left to right\n",
    "ordering = [['start'], ['middle'], ['end']]\n",
    "\n",
    "# set the \"bundle\" of connections you want to show\n",
    "bundles = [Bundle('start', 'end', waypoints=['middle'])]\n",
    "\n",
    "# partition the groups for display\n",
    "destination = Partition.Simple('target', refugees['target'].unique())\n",
    "nodes['start'].partition = Partition.Simple('source', ['Syria'])\n",
    "nodes['end'].partition = destination\n",
    "\n",
    "# add the color palette\n",
    "palette = {'North America': '#ED533B', 'Middle East': '#3CAEA3', 'Europe': '#F6D55C'}"
   ]
  },
  {
   "cell_type": "code",
   "execution_count": 12,
   "metadata": {
    "scrolled": true
   },
   "outputs": [
    {
     "data": {
      "application/vnd.jupyter.widget-view+json": {
       "model_id": "044275e3caa443c093573d0f727c51e4",
       "version_major": 2,
       "version_minor": 0
      },
      "text/plain": [
       "SankeyWidget(groups=[{'id': 'start', 'type': 'process', 'title': '', 'nodes': ['start^Syria']}, {'id': 'middle…"
      ]
     },
     "metadata": {},
     "output_type": "display_data"
    }
   ],
   "source": [
    "# create sankey with flow_partition\n",
    "sdd = SankeyDefinition(nodes, bundles, ordering, flow_partition=region)\n",
    "\n",
    "# display sankey (with color palette) and save as png\n",
    "weave(sdd, refugees, palette=palette).to_widget().auto_save_png('./images/syria_waypt.png')"
   ]
  },
  {
   "cell_type": "code",
   "execution_count": 13,
   "metadata": {},
   "outputs": [
    {
     "data": {
      "application/vnd.jupyter.widget-view+json": {
       "model_id": "73c53155c46d4371923a29d7b5b2ecff",
       "version_major": 2,
       "version_minor": 0
      },
      "text/plain": [
       "SankeyWidget(groups=[{'id': 'start', 'type': 'process', 'title': '', 'nodes': ['start^Syria']}, {'id': 'middle…"
      ]
     },
     "metadata": {},
     "output_type": "display_data"
    }
   ],
   "source": [
    "# create sankey with flow_partition\n",
    "sdd = SankeyDefinition(nodes, bundles, ordering)\n",
    "\n",
    "# display sankey (with color palette) and save as png\n",
    "weave(sdd, refugees).to_widget().auto_save_png('./images/syria_waypt_pink.png')"
   ]
  },
  {
   "cell_type": "markdown",
   "metadata": {},
   "source": [
    "## Showing multiple types of flows"
   ]
  },
  {
   "cell_type": "code",
   "execution_count": 14,
   "metadata": {},
   "outputs": [],
   "source": [
    "# update the dataset to add categories (this gender/age data is completely fabricated)\n",
    "\n",
    "refugees_gender = pd.DataFrame(columns = ['source', 'target', 'value', 'region', 'type'])\n",
    "refugees_gender['value'] = [1000000, 200000, 150000, 70000, 35000, 300000, 3000,\n",
    "                            1100000, 220000, 180000, 75000, 40000, 330000, 5000,\n",
    "                            1500000, 530000, 340000, 105000, 65000, 670000, 10000]\n",
    "refugees_gender['source'] = 'Syria'\n",
    "refugees_gender['target'] = ['Turkey', 'Lebanon', 'Jordan', 'Iraq', 'Egypt', 'Europe', 'USA', \n",
    "                              'Turkey', 'Lebanon', 'Jordan', 'Iraq', 'Egypt', 'Europe', 'USA',\n",
    "                              'Turkey', 'Lebanon', 'Jordan', 'Iraq', 'Egypt', 'Europe', 'USA']\n",
    "refugees_gender['region'] = ['Middle East', 'Middle East', 'Middle East', 'Middle East', 'Middle East', \n",
    "                              'Europe', 'North America', 'Middle East', 'Middle East', 'Middle East', \n",
    "                              'Middle East', 'Middle East', 'Europe', 'North America', 'Middle East', \n",
    "                              'Middle East', 'Middle East', 'Middle East', 'Middle East', 'Europe', \n",
    "                              'North America']\n",
    "refugees_gender['type'] = ['men', 'men', 'men', 'men', 'men', 'men', 'men', 'women', 'women',\n",
    "                           'women', 'women', 'women', 'women', 'women', 'children', 'children',\n",
    "                           'children', 'children', 'children', 'children', 'children']"
   ]
  },
  {
   "cell_type": "code",
   "execution_count": 15,
   "metadata": {},
   "outputs": [
    {
     "data": {
      "text/html": [
       "<div>\n",
       "<style scoped>\n",
       "    .dataframe tbody tr th:only-of-type {\n",
       "        vertical-align: middle;\n",
       "    }\n",
       "\n",
       "    .dataframe tbody tr th {\n",
       "        vertical-align: top;\n",
       "    }\n",
       "\n",
       "    .dataframe thead th {\n",
       "        text-align: right;\n",
       "    }\n",
       "</style>\n",
       "<table border=\"1\" class=\"dataframe\">\n",
       "  <thead>\n",
       "    <tr style=\"text-align: right;\">\n",
       "      <th></th>\n",
       "      <th>source</th>\n",
       "      <th>target</th>\n",
       "      <th>value</th>\n",
       "      <th>region</th>\n",
       "      <th>type</th>\n",
       "    </tr>\n",
       "  </thead>\n",
       "  <tbody>\n",
       "    <tr>\n",
       "      <th>0</th>\n",
       "      <td>Syria</td>\n",
       "      <td>Turkey</td>\n",
       "      <td>1000000</td>\n",
       "      <td>Middle East</td>\n",
       "      <td>men</td>\n",
       "    </tr>\n",
       "    <tr>\n",
       "      <th>1</th>\n",
       "      <td>Syria</td>\n",
       "      <td>Lebanon</td>\n",
       "      <td>200000</td>\n",
       "      <td>Middle East</td>\n",
       "      <td>men</td>\n",
       "    </tr>\n",
       "    <tr>\n",
       "      <th>2</th>\n",
       "      <td>Syria</td>\n",
       "      <td>Jordan</td>\n",
       "      <td>150000</td>\n",
       "      <td>Middle East</td>\n",
       "      <td>men</td>\n",
       "    </tr>\n",
       "    <tr>\n",
       "      <th>3</th>\n",
       "      <td>Syria</td>\n",
       "      <td>Iraq</td>\n",
       "      <td>70000</td>\n",
       "      <td>Middle East</td>\n",
       "      <td>men</td>\n",
       "    </tr>\n",
       "    <tr>\n",
       "      <th>4</th>\n",
       "      <td>Syria</td>\n",
       "      <td>Egypt</td>\n",
       "      <td>35000</td>\n",
       "      <td>Middle East</td>\n",
       "      <td>men</td>\n",
       "    </tr>\n",
       "    <tr>\n",
       "      <th>5</th>\n",
       "      <td>Syria</td>\n",
       "      <td>Europe</td>\n",
       "      <td>300000</td>\n",
       "      <td>Europe</td>\n",
       "      <td>men</td>\n",
       "    </tr>\n",
       "    <tr>\n",
       "      <th>6</th>\n",
       "      <td>Syria</td>\n",
       "      <td>USA</td>\n",
       "      <td>3000</td>\n",
       "      <td>North America</td>\n",
       "      <td>men</td>\n",
       "    </tr>\n",
       "    <tr>\n",
       "      <th>7</th>\n",
       "      <td>Syria</td>\n",
       "      <td>Turkey</td>\n",
       "      <td>1100000</td>\n",
       "      <td>Middle East</td>\n",
       "      <td>women</td>\n",
       "    </tr>\n",
       "    <tr>\n",
       "      <th>8</th>\n",
       "      <td>Syria</td>\n",
       "      <td>Lebanon</td>\n",
       "      <td>220000</td>\n",
       "      <td>Middle East</td>\n",
       "      <td>women</td>\n",
       "    </tr>\n",
       "    <tr>\n",
       "      <th>9</th>\n",
       "      <td>Syria</td>\n",
       "      <td>Jordan</td>\n",
       "      <td>180000</td>\n",
       "      <td>Middle East</td>\n",
       "      <td>women</td>\n",
       "    </tr>\n",
       "    <tr>\n",
       "      <th>10</th>\n",
       "      <td>Syria</td>\n",
       "      <td>Iraq</td>\n",
       "      <td>75000</td>\n",
       "      <td>Middle East</td>\n",
       "      <td>women</td>\n",
       "    </tr>\n",
       "    <tr>\n",
       "      <th>11</th>\n",
       "      <td>Syria</td>\n",
       "      <td>Egypt</td>\n",
       "      <td>40000</td>\n",
       "      <td>Middle East</td>\n",
       "      <td>women</td>\n",
       "    </tr>\n",
       "    <tr>\n",
       "      <th>12</th>\n",
       "      <td>Syria</td>\n",
       "      <td>Europe</td>\n",
       "      <td>330000</td>\n",
       "      <td>Europe</td>\n",
       "      <td>women</td>\n",
       "    </tr>\n",
       "    <tr>\n",
       "      <th>13</th>\n",
       "      <td>Syria</td>\n",
       "      <td>USA</td>\n",
       "      <td>5000</td>\n",
       "      <td>North America</td>\n",
       "      <td>women</td>\n",
       "    </tr>\n",
       "    <tr>\n",
       "      <th>14</th>\n",
       "      <td>Syria</td>\n",
       "      <td>Turkey</td>\n",
       "      <td>1500000</td>\n",
       "      <td>Middle East</td>\n",
       "      <td>children</td>\n",
       "    </tr>\n",
       "    <tr>\n",
       "      <th>15</th>\n",
       "      <td>Syria</td>\n",
       "      <td>Lebanon</td>\n",
       "      <td>530000</td>\n",
       "      <td>Middle East</td>\n",
       "      <td>children</td>\n",
       "    </tr>\n",
       "    <tr>\n",
       "      <th>16</th>\n",
       "      <td>Syria</td>\n",
       "      <td>Jordan</td>\n",
       "      <td>340000</td>\n",
       "      <td>Middle East</td>\n",
       "      <td>children</td>\n",
       "    </tr>\n",
       "    <tr>\n",
       "      <th>17</th>\n",
       "      <td>Syria</td>\n",
       "      <td>Iraq</td>\n",
       "      <td>105000</td>\n",
       "      <td>Middle East</td>\n",
       "      <td>children</td>\n",
       "    </tr>\n",
       "    <tr>\n",
       "      <th>18</th>\n",
       "      <td>Syria</td>\n",
       "      <td>Egypt</td>\n",
       "      <td>65000</td>\n",
       "      <td>Middle East</td>\n",
       "      <td>children</td>\n",
       "    </tr>\n",
       "    <tr>\n",
       "      <th>19</th>\n",
       "      <td>Syria</td>\n",
       "      <td>Europe</td>\n",
       "      <td>670000</td>\n",
       "      <td>Europe</td>\n",
       "      <td>children</td>\n",
       "    </tr>\n",
       "    <tr>\n",
       "      <th>20</th>\n",
       "      <td>Syria</td>\n",
       "      <td>USA</td>\n",
       "      <td>10000</td>\n",
       "      <td>North America</td>\n",
       "      <td>children</td>\n",
       "    </tr>\n",
       "  </tbody>\n",
       "</table>\n",
       "</div>"
      ],
      "text/plain": [
       "   source   target    value         region      type\n",
       "0   Syria   Turkey  1000000    Middle East       men\n",
       "1   Syria  Lebanon   200000    Middle East       men\n",
       "2   Syria   Jordan   150000    Middle East       men\n",
       "3   Syria     Iraq    70000    Middle East       men\n",
       "4   Syria    Egypt    35000    Middle East       men\n",
       "5   Syria   Europe   300000         Europe       men\n",
       "6   Syria      USA     3000  North America       men\n",
       "7   Syria   Turkey  1100000    Middle East     women\n",
       "8   Syria  Lebanon   220000    Middle East     women\n",
       "9   Syria   Jordan   180000    Middle East     women\n",
       "10  Syria     Iraq    75000    Middle East     women\n",
       "11  Syria    Egypt    40000    Middle East     women\n",
       "12  Syria   Europe   330000         Europe     women\n",
       "13  Syria      USA     5000  North America     women\n",
       "14  Syria   Turkey  1500000    Middle East  children\n",
       "15  Syria  Lebanon   530000    Middle East  children\n",
       "16  Syria   Jordan   340000    Middle East  children\n",
       "17  Syria     Iraq   105000    Middle East  children\n",
       "18  Syria    Egypt    65000    Middle East  children\n",
       "19  Syria   Europe   670000         Europe  children\n",
       "20  Syria      USA    10000  North America  children"
      ]
     },
     "execution_count": 15,
     "metadata": {},
     "output_type": "execute_result"
    }
   ],
   "source": [
    "refugees_gender"
   ]
  },
  {
   "cell_type": "code",
   "execution_count": 16,
   "metadata": {},
   "outputs": [
    {
     "data": {
      "application/vnd.jupyter.widget-view+json": {
       "model_id": "cffb1ddffa424fba8f62c5d48bd29faa",
       "version_major": 2,
       "version_minor": 0
      },
      "text/plain": [
       "SankeyWidget(groups=[{'id': 'start', 'type': 'process', 'title': '', 'nodes': ['start^Syria']}, {'id': 'type',…"
      ]
     },
     "metadata": {},
     "output_type": "display_data"
    }
   ],
   "source": [
    "# create partition for type\n",
    "gender = Partition.Simple('type', ['men', 'women', 'children'])\n",
    "\n",
    "# set color palette\n",
    "# palette = {'men': 'teal', 'women': 'purple', 'children': 'gray'}\n",
    "\n",
    "# set the \"nodes\" - aka grouping spots. (Node names here aren't important)\n",
    "nodes = {\n",
    "    'start': ProcessGroup(['Syria']), # one (Syria) at the start \n",
    "    'type': Waypoint(gender),\n",
    "    'end': ProcessGroup(list(refugees_gender['target'])), # 7 at the end\n",
    "}\n",
    "\n",
    "# set the order of the nodes left to right\n",
    "ordering = [['start'], ['type'], ['end']]\n",
    "\n",
    "# set the \"bundle\" of connections you want to show\n",
    "bundles = [Bundle('start', 'end', waypoints=['type'])]\n",
    "\n",
    "# partition the groups for display Partition.Simple(whatever you want, list of unique values)\n",
    "nodes['start'].partition = Partition.Simple('source', ['Syria'])\n",
    "nodes['end'].partition = Partition.Simple('target', ['Turkey', 'Lebanon', 'Jordan', 'Iraq', 'Egypt', 'Europe', 'USA'])\n",
    "\n",
    "# New sankey diagram with the flow_partition set for gender/type\n",
    "sdd = SankeyDefinition(nodes, bundles, ordering, \n",
    "                       flow_partition=gender)\n",
    "\n",
    "weave(sdd, refugees_gender).to_widget().auto_save_png('./images/syria_mwc.png')"
   ]
  },
  {
   "cell_type": "markdown",
   "metadata": {},
   "source": [
    "## Adjusting features of the display\n",
    "\n",
    "Adding a Legend - Not sure how :( manually?\n",
    "\n",
    "Adjust fontsize?"
   ]
  },
  {
   "cell_type": "code",
   "execution_count": 17,
   "metadata": {},
   "outputs": [
    {
     "data": {
      "application/vnd.jupyter.widget-view+json": {
       "model_id": "07de052d0aa24b2c9d4bc8956406c4af",
       "version_major": 2,
       "version_minor": 0
      },
      "text/plain": [
       "SankeyWidget(groups=[{'id': 'start', 'type': 'process', 'title': '', 'nodes': ['start^Syria']}, {'id': 'type',…"
      ]
     },
     "metadata": {},
     "output_type": "display_data"
    }
   ],
   "source": [
    "# image size\n",
    "size = dict(width=570, height=300)\n",
    "\n",
    "weave(sdd, refugees_gender, palette=palette).to_widget(**size).auto_save_png('./images/syria_mwc_small.png')"
   ]
  },
  {
   "cell_type": "markdown",
   "metadata": {},
   "source": [
    "## Adding a Waypoint"
   ]
  },
  {
   "cell_type": "code",
   "execution_count": 18,
   "metadata": {},
   "outputs": [
    {
     "data": {
      "text/html": [
       "<div>\n",
       "<style scoped>\n",
       "    .dataframe tbody tr th:only-of-type {\n",
       "        vertical-align: middle;\n",
       "    }\n",
       "\n",
       "    .dataframe tbody tr th {\n",
       "        vertical-align: top;\n",
       "    }\n",
       "\n",
       "    .dataframe thead th {\n",
       "        text-align: right;\n",
       "    }\n",
       "</style>\n",
       "<table border=\"1\" class=\"dataframe\">\n",
       "  <thead>\n",
       "    <tr style=\"text-align: right;\">\n",
       "      <th></th>\n",
       "      <th>source</th>\n",
       "      <th>target</th>\n",
       "      <th>value</th>\n",
       "      <th>category</th>\n",
       "    </tr>\n",
       "  </thead>\n",
       "  <tbody>\n",
       "    <tr>\n",
       "      <th>0</th>\n",
       "      <td>partner 1</td>\n",
       "      <td>movies</td>\n",
       "      <td>5</td>\n",
       "      <td>fun</td>\n",
       "    </tr>\n",
       "    <tr>\n",
       "      <th>1</th>\n",
       "      <td>partner 1</td>\n",
       "      <td>restaurants</td>\n",
       "      <td>25</td>\n",
       "      <td>fun</td>\n",
       "    </tr>\n",
       "    <tr>\n",
       "      <th>2</th>\n",
       "      <td>partner 1</td>\n",
       "      <td>rent</td>\n",
       "      <td>30</td>\n",
       "      <td>necessities</td>\n",
       "    </tr>\n",
       "    <tr>\n",
       "      <th>3</th>\n",
       "      <td>partner 1</td>\n",
       "      <td>groceries</td>\n",
       "      <td>10</td>\n",
       "      <td>necessities</td>\n",
       "    </tr>\n",
       "    <tr>\n",
       "      <th>4</th>\n",
       "      <td>partner 1</td>\n",
       "      <td>other</td>\n",
       "      <td>10</td>\n",
       "      <td>necessities</td>\n",
       "    </tr>\n",
       "    <tr>\n",
       "      <th>5</th>\n",
       "      <td>partner 1</td>\n",
       "      <td>retirement</td>\n",
       "      <td>15</td>\n",
       "      <td>saving</td>\n",
       "    </tr>\n",
       "    <tr>\n",
       "      <th>6</th>\n",
       "      <td>partner 1</td>\n",
       "      <td>vacation</td>\n",
       "      <td>5</td>\n",
       "      <td>saving</td>\n",
       "    </tr>\n",
       "    <tr>\n",
       "      <th>7</th>\n",
       "      <td>partner 2</td>\n",
       "      <td>movies</td>\n",
       "      <td>10</td>\n",
       "      <td>fun</td>\n",
       "    </tr>\n",
       "    <tr>\n",
       "      <th>8</th>\n",
       "      <td>partner 2</td>\n",
       "      <td>restaurants</td>\n",
       "      <td>20</td>\n",
       "      <td>fun</td>\n",
       "    </tr>\n",
       "    <tr>\n",
       "      <th>9</th>\n",
       "      <td>partner 2</td>\n",
       "      <td>rent</td>\n",
       "      <td>30</td>\n",
       "      <td>necessities</td>\n",
       "    </tr>\n",
       "    <tr>\n",
       "      <th>10</th>\n",
       "      <td>partner 2</td>\n",
       "      <td>groceries</td>\n",
       "      <td>10</td>\n",
       "      <td>necessities</td>\n",
       "    </tr>\n",
       "    <tr>\n",
       "      <th>11</th>\n",
       "      <td>partner 2</td>\n",
       "      <td>other</td>\n",
       "      <td>15</td>\n",
       "      <td>necessities</td>\n",
       "    </tr>\n",
       "    <tr>\n",
       "      <th>12</th>\n",
       "      <td>partner 2</td>\n",
       "      <td>retirement</td>\n",
       "      <td>15</td>\n",
       "      <td>saving</td>\n",
       "    </tr>\n",
       "    <tr>\n",
       "      <th>13</th>\n",
       "      <td>partner 2</td>\n",
       "      <td>house</td>\n",
       "      <td>10</td>\n",
       "      <td>saving</td>\n",
       "    </tr>\n",
       "  </tbody>\n",
       "</table>\n",
       "</div>"
      ],
      "text/plain": [
       "       source       target  value     category\n",
       "0   partner 1       movies      5          fun\n",
       "1   partner 1  restaurants     25          fun\n",
       "2   partner 1         rent     30  necessities\n",
       "3   partner 1    groceries     10  necessities\n",
       "4   partner 1        other     10  necessities\n",
       "5   partner 1   retirement     15       saving\n",
       "6   partner 1     vacation      5       saving\n",
       "7   partner 2       movies     10          fun\n",
       "8   partner 2  restaurants     20          fun\n",
       "9   partner 2         rent     30  necessities\n",
       "10  partner 2    groceries     10  necessities\n",
       "11  partner 2        other     15  necessities\n",
       "12  partner 2   retirement     15       saving\n",
       "13  partner 2        house     10       saving"
      ]
     },
     "execution_count": 18,
     "metadata": {},
     "output_type": "execute_result"
    }
   ],
   "source": [
    "# Load new dataset\n",
    "household = pd.read_csv('household.csv')\n",
    "household"
   ]
  },
  {
   "cell_type": "code",
   "execution_count": 19,
   "metadata": {},
   "outputs": [
    {
     "data": {
      "application/vnd.jupyter.widget-view+json": {
       "model_id": "24611b8825b849a98cc0de77e8e57c68",
       "version_major": 2,
       "version_minor": 0
      },
      "text/plain": [
       "SankeyWidget(groups=[{'id': 'start', 'type': 'process', 'title': '', 'nodes': ['start^partner 1', 'start^partn…"
      ]
     },
     "metadata": {},
     "output_type": "display_data"
    }
   ],
   "source": [
    "# set the \"nodes\" - aka grouping spots. (Node names here aren't important)\n",
    "nodes = {\n",
    "    'start': ProcessGroup(list(household['source'])),\n",
    "    'category': Waypoint(Partition.Simple('category', household['category'].unique())),\n",
    "    'end': ProcessGroup(list(household['target'])),\n",
    "}\n",
    "\n",
    "# set the order of the nodes left to right\n",
    "ordering = [['start'], \n",
    "            ['category'],\n",
    "            ['end']]\n",
    "\n",
    "# set the \"bundle\" of connections you want to show\n",
    "bundles = [Bundle('start', 'end', waypoints=['category'])]\n",
    "\n",
    "# add the partitions\n",
    "partner = Partition.Simple('source', household['source'].unique())\n",
    "nodes['start'].partition = partner\n",
    "nodes['end'].partition = Partition.Simple('target', household['target'].unique())\n",
    "\n",
    "# add the color palette\n",
    "palette = {'partner 1': '#027368', 'partner 2': '#58A4B0'}\n",
    "\n",
    "# create the sankey diagram\n",
    "sdd = SankeyDefinition(nodes, bundles, ordering, flow_partition=partner)\n",
    "\n",
    "# display the sankey diagram\n",
    "weave(sdd, household, palette=palette).to_widget().auto_save_png('./images/household.png')"
   ]
  },
  {
   "cell_type": "code",
   "execution_count": 20,
   "metadata": {},
   "outputs": [
    {
     "data": {
      "application/vnd.jupyter.widget-view+json": {
       "model_id": "5d2a9ae13e994d06bcbacb8c051a23f3",
       "version_major": 2,
       "version_minor": 0
      },
      "text/plain": [
       "SankeyWidget(groups=[{'id': 'start', 'type': 'process', 'title': '', 'nodes': ['start^partner 1', 'start^partn…"
      ]
     },
     "metadata": {},
     "output_type": "display_data"
    }
   ],
   "source": [
    "# create the partition for coloring\n",
    "category = Partition.Simple('category', household['category'].unique())\n",
    "\n",
    "# create the sankey diagram\n",
    "sdd = SankeyDefinition(nodes, bundles, ordering, flow_partition=category)\n",
    "\n",
    "# display the sankey diagram\n",
    "weave(sdd, household).to_widget().auto_save_png('./images/household_alt.png')"
   ]
  }
 ],
 "metadata": {
  "kernelspec": {
   "display_name": "Python 3 (learn-env)",
   "language": "python",
   "name": "learn-env"
  },
  "language_info": {
   "codemirror_mode": {
    "name": "ipython",
    "version": 3
   },
   "file_extension": ".py",
   "mimetype": "text/x-python",
   "name": "python",
   "nbconvert_exporter": "python",
   "pygments_lexer": "ipython3",
   "version": "3.6.6"
  }
 },
 "nbformat": 4,
 "nbformat_minor": 2
}
